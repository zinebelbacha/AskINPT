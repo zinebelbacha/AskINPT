{
  "cells": [
    {
      "cell_type": "code",
      "execution_count": null,
      "metadata": {
        "colab": {
          "base_uri": "https://localhost:8080/"
        },
        "collapsed": true,
        "id": "jPQBtbsUDek1",
        "outputId": "34ccf3ed-9e11-4544-9145-9308d4f6b994"
      },
      "outputs": [],
      "source": [
        "!pip install -r /content/drive/MyDrive/requirements.txt"
      ]
    },
    {
      "cell_type": "code",
      "execution_count": null,
      "metadata": {
        "colab": {
          "base_uri": "https://localhost:8080/"
        },
        "id": "SrCnSEXd1CZ5",
        "outputId": "5e190009-8f09-406c-c10a-afe4bd7c1a22"
      },
      "outputs": [],
      "source": [
        "!pip install pypdf"
      ]
    },
    {
      "cell_type": "code",
      "execution_count": null,
      "metadata": {
        "colab": {
          "base_uri": "https://localhost:8080/"
        },
        "id": "QThpXMg41nD5",
        "outputId": "75123987-3b9e-4f91-d02c-091e6da56b5b"
      },
      "outputs": [],
      "source": [
        "!pip install sentence-transformers"
      ]
    },
    {
      "cell_type": "code",
      "execution_count": null,
      "metadata": {
        "colab": {
          "base_uri": "https://localhost:8080/"
        },
        "id": "zcooRM-dS103",
        "outputId": "827a3908-40b1-470a-87a4-d031f718ebf0"
      },
      "outputs": [],
      "source": [
        "#Pinecone and hugging face API keys\n",
        "%env PINECONE_API_KEY=\n",
        "%env HUGGINGFACE_API_KEY="
      ]
    },
    {
      "cell_type": "code",
      "execution_count": null,
      "metadata": {
        "colab": {
          "base_uri": "https://localhost:8080/",
          "height": 391
        },
        "id": "RTlnMYIrkNS7",
        "outputId": "f33d786b-9f27-4908-c1d0-d36db5a0052f"
      },
      "outputs": [],
      "source": [
        "from langchain.text_splitter import CharacterTextSplitter\n",
        "from langchain.document_loaders import TextLoader\n",
        "from langchain.embeddings import HuggingFaceEmbeddings\n",
        "from langchain.vectorstores import Pinecone\n",
        "import pinecone\n",
        "import os\n",
        "from langchain.llms import HuggingFaceHub\n",
        "from langchain import PromptTemplate\n",
        "from langchain.schema.runnable import RunnablePassthrough\n",
        "from langchain.schema.output_parser import StrOutputParser\n",
        "from langchain.document_loaders import PyPDFLoader\n",
        "class ChatBot():\n",
        "\n",
        "  loader = PyPDFLoader('/content/drive/MyDrive/INPT _infos.pdf')\n",
        "  documents = loader.load()\n",
        "  text_splitter = CharacterTextSplitter(chunk_size=2000, chunk_overlap=100)\n",
        "  docs = text_splitter.split_documents(documents)\n",
        "\n",
        "  embeddings = HuggingFaceEmbeddings()\n",
        "\n",
        "\n",
        "  # Initialize Pinecone client\n",
        "  pinecone.init(api_key= os.getenv('PINECONE_API_KEY'))\n",
        "\n",
        "  # Define Index Name\n",
        "  index_name = \"chatbot\"\n",
        "\n",
        "  # Checking Index\n",
        "  if index_name not in pinecone.list_indexes():\n",
        "    docsearch = Pinecone.from_documents(docs, embeddings, index_name=index_name)\n",
        "\n",
        "  else:\n",
        "    docsearch = Pinecone.from_existing_index(index_name, embeddings)\n",
        "\n",
        "\n",
        "  repo_id = \"mistralai/Mixtral-8x7B-Instruct-v0.1\"\n",
        "  llm = HuggingFaceHub(\n",
        "      repo_id=repo_id,\n",
        "      model_kwargs={\"temperature\": 0.8, \"top_k\": 50},\n",
        "      huggingfacehub_api_token=os.getenv('HUGGINGFACE_API_KEY')\n",
        "\n",
        "  )\n",
        "  template = \"\"\"\n",
        "  You are an assistant specializing in the Institut National des Postes et Télécommunications (INPT).\n",
        "  Your role is to provide information and answer questions  related only to INPT, including its programs, research, and organizational details.\n",
        "  If a question is outside your area of expertise, politely inform the user that you can only assist with questions related to INPT.\n",
        "\n",
        "  Context: {context}\n",
        "  Question: {question}\n",
        "  Answer:\n",
        "\n",
        "  \"\"\"\n",
        "\n",
        "  prompt = PromptTemplate(\n",
        "      template=template,\n",
        "      input_variables=[\"context\", \"question\"]\n",
        "  )\n",
        "\n",
        "  rag_chain = (\n",
        "    {\"context\": docsearch.as_retriever(),  \"question\": RunnablePassthrough()}\n",
        "    | prompt\n",
        "    | llm\n",
        "    | StrOutputParser()\n",
        "  )"
      ]
    },
    {
      "cell_type": "code",
      "execution_count": null,
      "metadata": {
        "colab": {
          "base_uri": "https://localhost:8080/"
        },
        "id": "kRTi4MwEnEPu",
        "outputId": "f45a364b-2dbc-4644-8e84-297c18fab4ba"
      },
      "outputs": [],
      "source": [
        "bot = ChatBot()\n",
        "user_input = input(\"Ask me anything: \")\n",
        "result = bot.rag_chain.invoke(user_input)\n",
        "print(str(result))"
      ]
    }
  ],
  "metadata": {
    "colab": {
      "provenance": []
    },
    "kernelspec": {
      "display_name": "Python 3",
      "name": "python3"
    },
    "language_info": {
      "name": "python"
    }
  },
  "nbformat": 4,
  "nbformat_minor": 0
}
